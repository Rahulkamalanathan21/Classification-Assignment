{
 "cells": [
  {
   "cell_type": "code",
   "execution_count": 1,
   "id": "23121bf5-c9a0-440b-802b-aae5bd762df4",
   "metadata": {},
   "outputs": [],
   "source": [
    "import pickle"
   ]
  },
  {
   "cell_type": "code",
   "execution_count": 2,
   "id": "ed58f86f-4a27-4070-8cf9-b0b95f84fd0e",
   "metadata": {},
   "outputs": [],
   "source": [
    "loaded_model=pickle.load(open(\"finalized_model_logistic.sav\",'rb'))\n",
    "result=loaded_model.predict([[1,2,3,4,5,8,7,6,7,8,9,10,11,22,33,44,55,66,77,88,99,10,11,22,33,44,55]])"
   ]
  },
  {
   "cell_type": "code",
   "execution_count": 3,
   "id": "ee697b45-df4f-4018-ac53-6daf9cf2e467",
   "metadata": {},
   "outputs": [
    {
     "data": {
      "text/plain": [
       "array([ True])"
      ]
     },
     "execution_count": 3,
     "metadata": {},
     "output_type": "execute_result"
    }
   ],
   "source": [
    "result"
   ]
  },
  {
   "cell_type": "code",
   "execution_count": null,
   "id": "04d86ef7-ee8c-445d-b0f8-f1d38958ed87",
   "metadata": {},
   "outputs": [],
   "source": []
  }
 ],
 "metadata": {
  "kernelspec": {
   "display_name": "Python 3 (ipykernel)",
   "language": "python",
   "name": "python3"
  },
  "language_info": {
   "codemirror_mode": {
    "name": "ipython",
    "version": 3
   },
   "file_extension": ".py",
   "mimetype": "text/x-python",
   "name": "python",
   "nbconvert_exporter": "python",
   "pygments_lexer": "ipython3",
   "version": "3.13.5"
  }
 },
 "nbformat": 4,
 "nbformat_minor": 5
}
